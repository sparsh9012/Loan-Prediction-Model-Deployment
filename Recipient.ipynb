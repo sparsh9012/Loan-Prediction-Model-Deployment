{
 "cells": [
  {
   "cell_type": "markdown",
   "metadata": {},
   "source": [
    "## Training"
   ]
  },
  {
   "cell_type": "code",
   "execution_count": 5,
   "metadata": {},
   "outputs": [
    {
     "name": "stderr",
     "output_type": "stream",
     "text": [
      "c:\\ProgramData\\Anaconda3\\lib\\site-packages\\IPython\\core\\interactiveshell.py:2728: DtypeWarning: Columns (45) have mixed types. Specify dtype option on import or set low_memory=False.\n",
      "  interactivity=interactivity, compiler=compiler, result=result)\n"
     ]
    },
    {
     "data": {
      "text/plain": [
       "DecisionTreeClassifier(class_weight=None, criterion='gini', max_depth=None,\n",
       "            max_features=None, max_leaf_nodes=None,\n",
       "            min_impurity_decrease=0.0, min_impurity_split=None,\n",
       "            min_samples_leaf=1, min_samples_split=2,\n",
       "            min_weight_fraction_leaf=0.0, presort=False, random_state=None,\n",
       "            splitter='best')"
      ]
     },
     "execution_count": 5,
     "metadata": {},
     "output_type": "execute_result"
    }
   ],
   "source": [
    "import pandas as pd\n",
    "import numpy as np\n",
    "from sklearn.model_selection import train_test_split\n",
    "df = pd.read_csv('LoanStats.csv')\n",
    "\n",
    "df = df.loc[:, df.isnull().sum()< 0.9*df.shape[0]]\n",
    "df = df.dropna(how='all')\n",
    "\n",
    "df = df.loc[:,df.apply(pd.Series.nunique) != 1]\n",
    "df = df.drop(['emp_title','title','desc'], axis=1)\n",
    "\n",
    "#Label-encoding\n",
    "from sklearn.preprocessing import LabelEncoder\n",
    "le = LabelEncoder()\n",
    "df['sub_grade']=le.fit_transform(df['sub_grade'])\n",
    "df['addr_state']=le.fit_transform(df['addr_state'])\n",
    "\n",
    "df['zip_code'] = df['zip_code'].str.replace('xx', '').astype('int')\n",
    "df['zip_code']=le.fit_transform(df['zip_code'])\n",
    "\n",
    "#one-hot encoding\n",
    "df = pd.concat([df, pd.get_dummies(df[['term','grade','home_ownership','verification_status','purpose','debt_settlement_flag']])], axis=1)\n",
    "df = df.drop(['term','grade','home_ownership','verification_status','purpose','debt_settlement_flag'], axis=1)\n",
    "\n",
    "# emp-length encoding\n",
    "look_up = {'1 year':1,'2 years':2,'3 years':3,'4 years':4,'5 years':5,'6 years':6,'7 years':7,'8 years':8,\n",
    "           '9 years':9,'10 years':10,'10+ years':11,'< 1 year':0}\n",
    "df['emp_length'] = df['emp_length'].apply(lambda x: look_up[x] if(str(x) != 'nan') else x)\n",
    "\n",
    "dt_cols = ['issue_d','earliest_cr_line','last_pymnt_d','last_credit_pull_d']\n",
    "df['issue_d_month'], df['issue_d_year'] = df['issue_d'].str.split('-', 1).str\n",
    "df['earliest_cr_line_month'], df['earliest_cr_line_year'] = df['earliest_cr_line'].str.split('-', 1).str\n",
    "df['last_pymnt_d_month'], df['last_pymnt_d_year'] = df['last_pymnt_d'].str.split('-', 1).str\n",
    "df['last_credit_pull_d_month'], df['last_credit_pull_d_year'] = df['last_credit_pull_d'].str.split('-', 1).str\n",
    "df = df.drop(dt_cols, axis=1)\n",
    "dt_cols_new = ['issue_d_month','issue_d_year','earliest_cr_line_month','earliest_cr_line_year','last_pymnt_d_month',\n",
    "               'last_pymnt_d_year','last_credit_pull_d_month','last_credit_pull_d_year']\n",
    "look_up = {'Jan':1,'Feb':2,'Mar':3,'Apr':4,'May':5,'Jun':6,'Jul':7,'Aug':8,'Sep':9,'Oct':10,'Nov':11,'Dec':12}\n",
    "df['issue_d_month'] = df['issue_d_month'].apply(lambda x: look_up[x] if(str(x) != 'nan') else x)\n",
    "df['earliest_cr_line_month'] = df['earliest_cr_line_month'].apply(lambda x: look_up[x] if(str(x) != 'nan') else x)\n",
    "df['last_pymnt_d_month'] = df['last_pymnt_d_month'].apply(lambda x: look_up[x] if(str(x) != 'nan') else x)\n",
    "df['last_credit_pull_d_month'] = df['last_credit_pull_d_month'].apply(lambda x: look_up[x] if(str(x) != 'nan') else x)\n",
    "df[dt_cols_new] = df[dt_cols_new].astype(float)\n",
    "df['int_rate'] = df['int_rate'].str.replace('%', '').astype('float')\n",
    "df['revol_util'] = df['revol_util'].str.replace('%', '').astype('float')\n",
    "df = df.rename(index=str, columns={'int_rate':'int_rate%', 'revol_util':'revol_util%'})\n",
    "\n",
    "#impute the missing values\n",
    "from sklearn.preprocessing import Imputer\n",
    "imputer = Imputer()\n",
    "df['tax_liens']=imputer.fit_transform(df[['tax_liens']].values)\n",
    "df['inq_last_6mths']=imputer.fit_transform(df[['inq_last_6mths']].values)\n",
    "df['acc_now_delinq']=imputer.fit_transform(df[['acc_now_delinq']].values)\n",
    "df['pub_rec']=imputer.fit_transform(df[['pub_rec']].values)\n",
    "df['open_acc']=imputer.fit_transform(df[['open_acc']].values)\n",
    "df['annual_inc']=imputer.fit_transform(df[['annual_inc']].values)\n",
    "df['delinq_2yrs']=imputer.fit_transform(df[['delinq_2yrs']].values)\n",
    "df['total_acc']=imputer.fit_transform(df[['total_acc']].values)\n",
    "df['delinq_amnt']=imputer.fit_transform(df[['delinq_amnt']].values)\n",
    "df['mths_since_last_delinq']=imputer.fit_transform(df[['mths_since_last_delinq']].values)\n",
    "df['pub_rec_bankruptcies']=imputer.fit_transform(df[['pub_rec_bankruptcies']].values)\n",
    "df['revol_util%']=imputer.fit_transform(df[['revol_util%']].values)\n",
    "df['emp_length']=imputer.fit_transform(df[['emp_length']].values)\n",
    "\n",
    "df['last_pymnt_d_year']=imputer.fit_transform(df[['last_pymnt_d_year']].values)\n",
    "df['last_pymnt_d_month']=imputer.fit_transform(df[['last_pymnt_d_month']].values)\n",
    "df['earliest_cr_line_year']=imputer.fit_transform(df[['earliest_cr_line_year']].values)\n",
    "df['earliest_cr_line_month']=imputer.fit_transform(df[['earliest_cr_line_month']].values)\n",
    "df['last_credit_pull_d_month']=imputer.fit_transform(df[['last_credit_pull_d_month']].values)\n",
    "df['last_credit_pull_d_year']=imputer.fit_transform(df[['last_credit_pull_d_year']].values)\n",
    "\n",
    "df.replace({'loan_status': {'Fully Paid': 1, 'Charged Off': 2,\n",
    "                            'Does not meet the credit policy. Status:Fully Paid':3,\n",
    "                            'Does not meet the credit policy. Status:Charged Off':4}}, inplace = True)\n",
    "y = df['loan_status']; X = df.drop('loan_status', axis=1); \n",
    "X_train, X_test, y_train, y_test = train_test_split(X,y, test_size = 0.20)\n",
    "from sklearn.tree import DecisionTreeClassifier\n",
    "decision_tree = DecisionTreeClassifier()\n",
    "decision_tree.fit(X_train, y_train)"
   ]
  },
  {
   "cell_type": "markdown",
   "metadata": {},
   "source": [
    "## Pickling"
   ]
  },
  {
   "cell_type": "code",
   "execution_count": 6,
   "metadata": {},
   "outputs": [
    {
     "data": {
      "text/plain": [
       "['clf_model.pkl']"
      ]
     },
     "execution_count": 6,
     "metadata": {},
     "output_type": "execute_result"
    }
   ],
   "source": [
    "from sklearn.externals import joblib\n",
    "# now you can save it to a file\n",
    "joblib.dump(decision_tree, 'clf_model.pkl') "
   ]
  }
 ],
 "metadata": {
  "kernelspec": {
   "display_name": "Python 3",
   "language": "python",
   "name": "python3"
  },
  "language_info": {
   "codemirror_mode": {
    "name": "ipython",
    "version": 3
   },
   "file_extension": ".py",
   "mimetype": "text/x-python",
   "name": "python",
   "nbconvert_exporter": "python",
   "pygments_lexer": "ipython3",
   "version": "3.6.4"
  }
 },
 "nbformat": 4,
 "nbformat_minor": 2
}
